{
 "cells": [
  {
   "cell_type": "markdown",
   "metadata": {},
   "source": [
    "# Graphs Function :"
   ]
  },
  {
   "cell_type": "markdown",
   "metadata": {},
   "source": [
    "\n",
    "### Name : Sahil Gupta\n",
    "### Roll No. : D21030"
   ]
  },
  {
   "cell_type": "markdown",
   "metadata": {},
   "source": [
    "#### PART 1 - BASIC :   \n",
    "Create a graph function that takes any dataset and create a boxplot and a histogram for numerical variables and \n",
    "a barplot for categorical variables and save them as PNG files in a specified repository.\n",
    "If no repository is specified then by default the graphs get stored in the working directory. \n",
    "The functions also give an additional argument to the user to choose a list of columns. \n",
    "If no list of columns is given the default setting must choose all the columns of the dataset.\n",
    "\n",
    "\n",
    "graphs(data, columns, directory)\n",
    "\n",
    "\n",
    "data: the data frame of interest  \n",
    "columns: the columns of interest (default: the list of all the columns)  \n",
    "directory: a link to a location in the system (default: the current working directory)  \n",
    "\n",
    "\n",
    "Output:  \n",
    "PNG files of the histogram & boxplot of all the numerical variables (given in the column set) and the bar plot of \n",
    "all the categorical variables given in the column set. The filename of the image files should be the name of the variable.  \n",
    "Example:  \n",
    "1. Graphs(cars, cols=[“MPG”, “Origin”, “Weight”])  \n",
    "--> Return:  \n",
    "graphs for only the three variables in the list and store it in the working directory.  \n",
    "\n",
    "\n",
    "2. Graphs(cars, directory = “../c/desktop..”)  \n",
    "--> Return:  \n",
    "graphs for all the columns and save the graph in the specified directory.  \n"
   ]
  },
  {
   "cell_type": "markdown",
   "metadata": {},
   "source": [
    "#### What is the problem statement & Why do you want to solve it?\n",
    "\n",
    "Whenever we are given a dataset for EDA purpose , one spends lot of time on separating Numerical & Categorical variable and also plotting the different types of plots for EDA. If also requires a lot of intensive manual coding & brain storming.\n",
    "To reduce this manual effort & time consuming process, we intend to design a automated function which will do this task & save a lot time.\n",
    "\n",
    "#### How do you intend to solve it? (Objective)\n",
    "\n",
    "The objective of this function is that whenever a data set given as input to this function, it will plot a box plot & histogram for all the numerical variables & bar plot for all the categorical variable, Moreover there plot images will be stored as .png files in the default/user specified directories.\n",
    "It will also give user the flexibility to specify specific columns for which he wants the plot & also specify the directory where he needs to store the plots.\n",
    "\n",
    "#### What kind of output you are expecting?\n",
    "\n",
    "The output of this function will be the graphs plotted for all variables in the data set with respect to their category & these plots will be saved as .png files in the current working or specified directory by the user.\n"
   ]
  },
  {
   "cell_type": "code",
   "execution_count": 1,
   "metadata": {},
   "outputs": [],
   "source": [
    "#Getting the required libraries\n",
    "import pandas as pd\n",
    "import numpy as np\n",
    "import matplotlib.pyplot as plt\n",
    "import os\n",
    "import seaborn as sns"
   ]
  },
  {
   "cell_type": "code",
   "execution_count": 2,
   "metadata": {},
   "outputs": [
    {
     "data": {
      "text/plain": [
       "'C:\\\\Users\\\\Lenovo\\\\Documents\\\\Codes\\\\PY End Term'"
      ]
     },
     "execution_count": 2,
     "metadata": {},
     "output_type": "execute_result"
    }
   ],
   "source": [
    "os.getcwd()                 #to get the current working directory "
   ]
  },
  {
   "cell_type": "code",
   "execution_count": 3,
   "metadata": {},
   "outputs": [],
   "source": [
    "#Getting the datasets for the test purpose.\n",
    "#Note : The datasets are stored in the same directory as the current working directory.\n",
    "#If the datasets are in any other directory, the we need to change the working directory by executing the below kernel."
   ]
  },
  {
   "cell_type": "code",
   "execution_count": 4,
   "metadata": {},
   "outputs": [],
   "source": [
    "cars = pd.read_csv(\"cars.csv\")\n",
    "iris = pd.read_csv(\"iris.csv\")"
   ]
  },
  {
   "cell_type": "code",
   "execution_count": 5,
   "metadata": {},
   "outputs": [],
   "source": [
    "#########################################################################"
   ]
  },
  {
   "cell_type": "code",
   "execution_count": 7,
   "metadata": {},
   "outputs": [],
   "source": [
    "#function definition : defining a function Graphs \n",
    "def Graphs(data, columns = None, directory = os.getcwd()) :    #defining the function prototype for function graphs\n",
    "    if columns == None:            #condition to check the argument columns passed by the user\n",
    "        data = data.iloc[:]        #if the argument columns does not hold a value, default selection will be all the columns\n",
    "    else :                         #else the columns passed by the user will be assigned\n",
    "        data = data[columns]       #assigning the columns as passed by the user \n",
    "    data_obj = data.select_dtypes(include=['object'])   #splitting the data into categorical and numerical varibles \n",
    "    data_num = data.drop(data_obj,axis = \"columns\")\n",
    "    \n",
    "    for i in data_num:             #initiating a loop to plot box plot and histogram for the numerical variables in the data\n",
    "        plt.figure(figsize=(8,8))                     #defining the size of the figure\n",
    "        plt.subplot(2, 1, 1)                            #spliting the figure into two rows and a single column\n",
    "        sns.boxplot(x = data_num[i],color='cyan')       #plot at (row, column) = (1, 1) of the figure               \n",
    "        plt.xlabel(i, fontsize = 14)                    #label on the x axis of the box plot\n",
    "        plt.title(\"Boxplot of \"+i, fontsize = 16)       #title of the box plot with variable name\n",
    "        plt.subplot(2, 1, 2)                            #plot at (row, column) = (1, 2) of thefigure i.e. box plot for each numerical variable in data\n",
    "        plt.hist(data_num[i],color = \"orange\",edgecolor = \"black\")  #plotting the histogram for each numerical variable in data\n",
    "        plt.xlabel(i, fontsize = 14)                    #label on the x axis of the histogram\n",
    "        plt.ylabel(\"Frequency\", fontsize = 14)          #label on the y axis of the histogram\n",
    "        plt.title(\"Histogram of \" +i ,fontsize = 16)    #title of the histogram with variable name\n",
    "        plt.tight_layout(pad=2)                         #spcaing between the two plots\n",
    "        plt.savefig(directory+\"\\\\\"+i+\".png\")            #saving the figure to the directory with the figure name as variable name\n",
    "        plt.show()                                      #to display the plots \n",
    "        plt.close(\"all\")                                #to close the figure window\n",
    "\n",
    "    for j in data_obj:                     #initiating a loop to plot bar graph for the categorical variables in the data\n",
    "        data_obj[j].value_counts().plot(kind = \"bar\",        #plotting a bar graph for each categorical variable in the data\n",
    "                                        figsize = (8,8),   #parameters of the bar graph\n",
    "                                        color = \"coral\",\n",
    "                                        fontsize = 13)\n",
    "        plt.xlabel(j,fontsize = 14)                     #label on the x axis of the bar graph\n",
    "        plt.ylabel(\"Frequncy\",fontsize = 14)            #label on the y axis of the bar graph\n",
    "        plt.title(\"Bar Graph of \"+j,fontsize = 16)      #title of the bar graph with variable name\n",
    "        plt.savefig(directory+\"\\\\\"+j+\".png\")            #saving the figure to the directory with the figure name as variable name\n",
    "        plt.show()                                      #to display the plots\n",
    "        plt.close(\"all\")                                #to close the figure window"
   ]
  },
  {
   "cell_type": "code",
   "execution_count": 1,
   "metadata": {
    "scrolled": false
   },
   "outputs": [],
   "source": [
    "#This function call will create the plots for all the variables in the data set and store them in the current \n",
    "#working directory.\n",
    "Graphs(iris)"
   ]
  },
  {
   "cell_type": "code",
   "execution_count": 2,
   "metadata": {
    "scrolled": false
   },
   "outputs": [],
   "source": [
    "#This function call will create the plots for the variables MPG, Acceleration and Origin and store them in the current \n",
    "#working directory.\n",
    "Graphs(cars, columns = [\"MPG\",\"Acceleration\",\"Origin\"])"
   ]
  },
  {
   "cell_type": "code",
   "execution_count": 3,
   "metadata": {
    "scrolled": false
   },
   "outputs": [],
   "source": [
    "#This function call will create the plots for all the variables in the data set and store them in the user specified directory.\n",
    "Graphs(iris, directory = 'C:\\\\Users\\\\Lenovo\\\\Documents\\\\Codes\\\\PY End Term\\\\Graphs')"
   ]
  },
  {
   "cell_type": "code",
   "execution_count": 4,
   "metadata": {},
   "outputs": [],
   "source": [
    "#This function call will create the plots for the variables MPG and Origin and store them in the user specified directory.\n",
    "Graphs(cars, columns = [\"MPG\", \"Origin\" ], directory = 'C:\\\\Users\\\\Lenovo\\\\Documents\\\\Codes\\\\PY End Term\\\\Graphs')"
   ]
  },
  {
   "cell_type": "markdown",
   "metadata": {},
   "source": [
    "### Objective:\n",
    "\n",
    "Funcition :  graphs(data, columns, directory)\n",
    "\n",
    "data: the data frame of interest\n",
    "\n",
    "columns: the columns of interest (default: the list of all the columns)\n",
    "\n",
    "directory: a link to a location in the system (default: the current working directory)\n",
    "\n",
    "### Algorithm:\n",
    "\n",
    "Define Graphs function with arguments data, cols and directory.\n",
    "\n",
    "\n",
    "    if cols is none then\n",
    "       take all columns from data\n",
    "\n",
    "    else then\n",
    "        take user specified columns from the data\n",
    "    end if\n",
    "    \n",
    "    assign categorical data(objective dtype) columns to one variable(data_obj)\n",
    "\n",
    "    assign numerical data(number dtype) columns to another variable(data_num)\n",
    "\n",
    "    for i in data_num do\n",
    "\n",
    "        develop box plot for i\n",
    "\n",
    "        develop histogram for i\n",
    "\n",
    "        subplot method used to merge two graphs.\n",
    "\n",
    "        save image with variable name in user defined repository or default repository as per the function call\n",
    "\n",
    "        close all plot operations.\n",
    "\n",
    "    end for\n",
    "\n",
    "    for i in data_obj do\n",
    "\n",
    "        develop bar chart for i\n",
    "\n",
    "        save image with variable in user defined repository or default repository as per the function call\n",
    "\n",
    "        close all plot operations.\n",
    "\n",
    "    end for\n",
    "    \n",
    " ### Expected Output:\n",
    " \n",
    "*  The \"Graph\" function save PNG files of the histogram & boxplot of all the numerical variables (given in the column set) and the bar plot of all the categorical variables given in the column set.\n",
    "* If no list of columns is given it will take all the columns of the dataset. \n",
    "* The filename of the PNG files stores with its respected variable name. \n",
    "* If user specified repository then images will be stored in that folder.If no repository is specified then by default the images will be stored in the working directory.\n",
    " \n",
    " \n",
    " \n",
    " \n",
    "  \n",
    "\n"
   ]
  },
  {
   "cell_type": "code",
   "execution_count": null,
   "metadata": {},
   "outputs": [],
   "source": []
  },
  {
   "cell_type": "code",
   "execution_count": null,
   "metadata": {},
   "outputs": [],
   "source": []
  },
  {
   "cell_type": "code",
   "execution_count": null,
   "metadata": {},
   "outputs": [],
   "source": []
  }
 ],
 "metadata": {
  "kernelspec": {
   "display_name": "Python 3",
   "language": "python",
   "name": "python3"
  },
  "language_info": {
   "codemirror_mode": {
    "name": "ipython",
    "version": 3
   },
   "file_extension": ".py",
   "mimetype": "text/x-python",
   "name": "python",
   "nbconvert_exporter": "python",
   "pygments_lexer": "ipython3",
   "version": "3.8.8"
  }
 },
 "nbformat": 4,
 "nbformat_minor": 4
}
