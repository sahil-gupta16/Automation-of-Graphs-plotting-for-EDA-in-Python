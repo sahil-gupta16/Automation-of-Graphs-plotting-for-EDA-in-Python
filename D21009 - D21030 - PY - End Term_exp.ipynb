{
 "cells": [
  {
   "cell_type": "markdown",
   "metadata": {},
   "source": [
    "# Python End Term Assignment"
   ]
  },
  {
   "cell_type": "markdown",
   "metadata": {},
   "source": [
    "### Name : Chintala Sai \n",
    "### Roll No. : D21009  \n",
    "### Name : Sahil Gupta\n",
    "### Roll No. : D21030"
   ]
  },
  {
   "cell_type": "markdown",
   "metadata": {},
   "source": [
    "#### PART 1 - BASIC :   \n",
    "Create a graph function that takes any dataset and create a boxplot and a histogram for numerical variables and \n",
    "a barplot for categorical variables and save them as PNG files in a specified repository.\n",
    "If no repository is specified then by default the graphs get stored in the working directory. \n",
    "The functions also give an additional argument to the user to choose a list of columns. \n",
    "If no list of columns is given the default setting must choose all the columns of the dataset.\n",
    "\n",
    "\n",
    "graphs(data, columns, directory)\n",
    "\n",
    "\n",
    "data: the data frame of interest  \n",
    "columns: the columns of interest (default: the list of all the columns)  \n",
    "directory: a link to a location in the system (default: the current working directory)  \n",
    "\n",
    "\n",
    "Output:  \n",
    "PNG files of the histogram & boxplot of all the numerical variables (given in the column set) and the bar plot of \n",
    "all the categorical variables given in the column set. The filename of the image files should be the name of the variable.  \n",
    "Example:  \n",
    "1. Graphs(cars, cols=[“MPG”, “Origin”, “Weight”])  \n",
    "--> Return:  \n",
    "graphs for only the three variables in the list and store it in the working directory.  \n",
    "\n",
    "\n",
    "2. Graphs(cars, directory = “../c/desktop..”)  \n",
    "--> Return:  \n",
    "graphs for all the columns and save the graph in the specified directory.  \n"
   ]
  },
  {
   "cell_type": "code",
   "execution_count": 1,
   "metadata": {},
   "outputs": [],
   "source": [
    "#Getting the required libraries\n",
    "import pandas as pd\n",
    "import numpy as np\n",
    "import matplotlib.pyplot as plt\n",
    "import os\n",
    "import seaborn as sns"
   ]
  },
  {
   "cell_type": "code",
   "execution_count": 2,
   "metadata": {},
   "outputs": [
    {
     "data": {
      "text/plain": [
       "'C:\\\\Users\\\\Lenovo\\\\Documents\\\\Codes\\\\PY End Term'"
      ]
     },
     "execution_count": 2,
     "metadata": {},
     "output_type": "execute_result"
    }
   ],
   "source": [
    "os.getcwd()                 #to get the current working directory "
   ]
  },
  {
   "cell_type": "code",
   "execution_count": 3,
   "metadata": {},
   "outputs": [],
   "source": [
    "#Getting the datasets for the test purpose.\n",
    "#Note : The datasets are stored in the same directory as the current working directory.\n",
    "#If the datasets are in any other directory, the we need to change the working directory by executing the below kernel."
   ]
  },
  {
   "cell_type": "code",
   "execution_count": 5,
   "metadata": {},
   "outputs": [],
   "source": [
    "cars = pd.read_csv(\"cars.csv\")\n",
    "iris = pd.read_csv(\"iris.csv\")"
   ]
  },
  {
   "cell_type": "code",
   "execution_count": null,
   "metadata": {},
   "outputs": [],
   "source": [
    "#########################################################################"
   ]
  },
  {
   "cell_type": "code",
   "execution_count": 4,
   "metadata": {},
   "outputs": [],
   "source": [
    "#function definition : defining a function Graphs \n",
    "def Graphs(data, columns = None, directory = os.getcwd()) :    #defining the function prototype for function graphs\n",
    "    if columns == None:            #condition to check the argument columns passed by the user\n",
    "        data = data.iloc[:]        #if the argument columns does not hold a value, default selection will be all the columns\n",
    "    else :                         #else the columns passed by the user will be assigned\n",
    "        data = data[columns]       #assigning the columns as passed by the user \n",
    "    data_obj = data.select_dtypes(include=['object'])   #splitting the data into categorical and numerical varibles \n",
    "    data_num = data.drop(data_obj,axis = \"columns\")\n",
    "    \n",
    "    for i in data_num:             #initiating a loop to plot box plot and histogram for the numerical variables in the data\n",
    "        plt.figure(figsize=(10,10))                     #defining the size of the figure\n",
    "        plt.subplot(2, 1, 1)                            #spliting the figure into two rows and a single column\n",
    "        sns.boxplot(x = data_num[i],color='cyan')       #plot at (row, column) = (1, 1) of the figure               \n",
    "        plt.xlabel(i, fontsize = 14)                    #label on the x axis of the box plot\n",
    "        plt.title(\"Boxplot of \"+i, fontsize = 16)       #title of the box plot with variable name\n",
    "        plt.subplot(2, 1, 2)                            #plot at (row, column) = (1, 2) of thefigure i.e. box plot for each numerical variable in data\n",
    "        plt.hist(data_num[i],color = \"orange\",edgecolor = \"black\")  #plotting the histogram for each numerical variable in data\n",
    "        plt.xlabel(i, fontsize = 14)                    #label on the x axis of the histogram\n",
    "        plt.ylabel(\"Frequency\", fontsize = 14)          #label on the y axis of the histogram\n",
    "        plt.title(\"Histogram of \" +i ,fontsize = 16)    #title of the histogram with variable name\n",
    "        plt.tight_layout(pad=2)                         #spcaing between the two plots\n",
    "        plt.savefig(directory+\"\\\\\"+i+\".png\")            #saving the figure to the directory with the figure name as variable name\n",
    "        plt.show()                                      #to display the plots \n",
    "        plt.close(\"all\")                                #to close the figure window\n",
    "\n",
    "    for j in data_obj:                     #initiating a loop to plot bar graph for the categorical variables in the data\n",
    "        data_obj[j].value_counts().plot(kind = \"bar\",        #plotting abar graph for each categorical variable in the data\n",
    "                                        figsize = (10,10),   #parameters of the bar graph\n",
    "                                        color = \"coral\",\n",
    "                                        fontsize = 13)\n",
    "        plt.xlabel(j,fontsize = 14)                     #label on the x axis of the bar graph\n",
    "        plt.ylabel(\"Frequncy\",fontsize = 14)            #label on the y axis of the bar graph\n",
    "        plt.title(\"Bar Graph of \"+j,fontsize = 16)      #title of the bar graph with variable name\n",
    "        plt.savefig(directory+\"\\\\\"+j+\".png\")            #saving the figure to the directory with the figure name as variable name\n",
    "        plt.show()                                      #to display the plots\n",
    "        plt.close(\"all\")                                #to close the figure window"
   ]
  },
  {
   "cell_type": "code",
   "execution_count": 1,
   "metadata": {
    "scrolled": false
   },
   "outputs": [],
   "source": [
    "Graphs(iris)"
   ]
  },
  {
   "cell_type": "code",
   "execution_count": null,
   "metadata": {},
   "outputs": [],
   "source": [
    "Graphs(cars, columns = [\"MPG\",\"Acceleration\",\"Origin\"])"
   ]
  },
  {
   "cell_type": "code",
   "execution_count": null,
   "metadata": {},
   "outputs": [],
   "source": [
    "Graphs(iris, directory = 'C:\\\\Users\\\\Lenovo\\\\Documents\\\\Codes\\\\PY End Term\\\\Graphs')"
   ]
  },
  {
   "cell_type": "code",
   "execution_count": null,
   "metadata": {},
   "outputs": [],
   "source": [
    "Graphs(cars, columns = [\"MPG\", \"Origin\" ], directory = 'C:\\\\Users\\\\Lenovo\\\\Documents\\\\Codes\\\\PY End Term\\\\Graphs')"
   ]
  },
  {
   "cell_type": "code",
   "execution_count": null,
   "metadata": {},
   "outputs": [],
   "source": []
  },
  {
   "cell_type": "code",
   "execution_count": null,
   "metadata": {},
   "outputs": [],
   "source": []
  },
  {
   "cell_type": "code",
   "execution_count": null,
   "metadata": {},
   "outputs": [],
   "source": []
  },
  {
   "cell_type": "code",
   "execution_count": null,
   "metadata": {},
   "outputs": [],
   "source": []
  },
  {
   "cell_type": "code",
   "execution_count": null,
   "metadata": {},
   "outputs": [],
   "source": []
  },
  {
   "cell_type": "code",
   "execution_count": null,
   "metadata": {},
   "outputs": [],
   "source": []
  },
  {
   "cell_type": "code",
   "execution_count": null,
   "metadata": {},
   "outputs": [],
   "source": []
  },
  {
   "cell_type": "code",
   "execution_count": null,
   "metadata": {},
   "outputs": [],
   "source": []
  },
  {
   "cell_type": "code",
   "execution_count": null,
   "metadata": {},
   "outputs": [],
   "source": []
  },
  {
   "cell_type": "code",
   "execution_count": null,
   "metadata": {},
   "outputs": [],
   "source": []
  },
  {
   "cell_type": "code",
   "execution_count": null,
   "metadata": {},
   "outputs": [],
   "source": [
    "#Graphs(cars, columns = [\"MPG\",\"Origin\",\"Displacement\"], directory = 'C:\\\\Users\\\\Lenovo\\\\Documents\\\\Codes\\\\PY End Term\\\\Graphs')"
   ]
  },
  {
   "cell_type": "code",
   "execution_count": null,
   "metadata": {},
   "outputs": [],
   "source": [
    "Graphs(cars, columns = [\"MPG\"])"
   ]
  },
  {
   "cell_type": "code",
   "execution_count": null,
   "metadata": {},
   "outputs": [],
   "source": [
    "Graphs(cars, columns = [\"Car\"])"
   ]
  },
  {
   "cell_type": "code",
   "execution_count": null,
   "metadata": {},
   "outputs": [],
   "source": [
    "Graphs(cars)"
   ]
  },
  {
   "cell_type": "code",
   "execution_count": null,
   "metadata": {},
   "outputs": [],
   "source": [
    "#Graphs(iris)"
   ]
  },
  {
   "cell_type": "code",
   "execution_count": null,
   "metadata": {},
   "outputs": [],
   "source": [
    "#Graphs(iris, columns = [\"petal_width\", \"species\"])"
   ]
  },
  {
   "cell_type": "code",
   "execution_count": null,
   "metadata": {},
   "outputs": [],
   "source": [
    "#Graphs(hr)"
   ]
  },
  {
   "cell_type": "code",
   "execution_count": null,
   "metadata": {},
   "outputs": [],
   "source": [
    "#Graphs(hr, [\"Attrition\", \"Age\", \"Department\"], 'C:\\\\Users\\\\Lenovo\\\\Documents\\\\Codes\\\\PY End Term\\\\Graphs')"
   ]
  },
  {
   "cell_type": "markdown",
   "metadata": {},
   "source": [
    "## Explanation\n",
    "\n",
    "### Problem Statement:\n",
    "\n",
    "Create a graph function that takes any dataset and create a boxplot and a histogram for numerical variables and a barplot for categorical variables and save them as PNG files in a specified repository. If no repository is specified then by default the graphs get stored in the working directory. The functions also give an additional argument to the user to choose a list of columns. If no list of columns is given the default setting must choose all the columns of the dataset.\n",
    "\n",
    "### Objective:\n",
    "\n",
    "Funcition :  graphs(data, columns, directory)\n",
    "\n",
    "data: the data frame of interest\n",
    "\n",
    "columns: the columns of interest (default: the list of all the columns)\n",
    "\n",
    "directory: a link to a location in the system (default: the current working directory)\n",
    "\n",
    "### Algorithm:\n",
    "\n",
    "Define Graphs function with arguments data, cols and directory.\n",
    "\n",
    "\n",
    "    if cols is none then\n",
    "       take all columns from data\n",
    "\n",
    "    else then\n",
    "        take user specified columns from the data\n",
    "    end if\n",
    "    \n",
    "    assign categorical data(objective dtype) columns to one variable(data_obj)\n",
    "\n",
    "    assign numerical data(number dtype) columns to another variable(data_num)\n",
    "\n",
    "    for i in data_num do\n",
    "\n",
    "        develop box plot for i\n",
    "\n",
    "        develop histogram for i\n",
    "\n",
    "        subplot method used to merge two graphs.\n",
    "\n",
    "        save image with variable name in user defined repository or default repository as per the function call\n",
    "\n",
    "        close all plot operations.\n",
    "\n",
    "    end for\n",
    "\n",
    "    for i in data_obj do\n",
    "\n",
    "        develop bar chart for i\n",
    "\n",
    "        save image with variable in user defined repository or default repository as per the function call\n",
    "\n",
    "        close all plot operations.\n",
    "\n",
    "    end for\n",
    "    \n",
    " ### Expected Output:\n",
    " \n",
    "*  The \"Graph\" function save PNG files of the histogram & boxplot of all the numerical variables (given in the column set) and the bar plot of all the categorical variables given in the column set.\n",
    "* If no list of columns is given it will take all the columns of the dataset. \n",
    "* The filename of the PNG files stores with its respected variable name. \n",
    "* If user specified repository then images will be stored in that folder.If no repository is specified then by default the images will be stored in the working directory.\n",
    " \n",
    " \n",
    " \n",
    " \n",
    "  \n",
    "\n"
   ]
  },
  {
   "cell_type": "code",
   "execution_count": null,
   "metadata": {},
   "outputs": [],
   "source": []
  },
  {
   "cell_type": "code",
   "execution_count": 25,
   "metadata": {},
   "outputs": [],
   "source": [
    "#function definition : defining a function Graphs \n",
    "def Graphs(data, columns = None, directory = os.getcwd()) :    #defining the function prototype for function graphs\n",
    "    if columns == None:            #condition to check the argument columns passed by the user\n",
    "        data = data.iloc[:]        #if the argument columns does not hold a value, default selection will be all the columns\n",
    "    else :                         #else the columns passed by the user will be assigned\n",
    "        data = data[columns]       #assigning the columns as passed by the user \n",
    "    data_obj = data.select_dtypes(include=['object'])   #splitting the data into categorical and numerical varibles \n",
    "    data_num = data.drop(data_obj,axis = \"columns\")\n",
    "    \n",
    "    for i in data_num:             #initiating a loop to plot box plot and histogram for the numerical variables in the data\n",
    "        plt.figure(figsize=(10,10))                     #defining the size of the figure\n",
    "        plt.subplot(2, 1, 1)                            #spliting the figure into two rows and a single column\n",
    "        sns.boxplot(x = data_num[i],color='cyan')       #plot at (row, column) = (1, 1) of the figure               \n",
    "        plt.xlabel(i, fontsize = 14)                    #label on the x axis of the box plot\n",
    "        plt.title(\"Boxplot of \"+i, fontsize = 16)       #title of the box plot with variable name\n",
    "        plt.subplot(2, 1, 2)                            #plot at (row, column) = (1, 2) of thefigure i.e. box plot for each numerical variable in data\n",
    "        plt.hist(data_num[i],color = \"orange\",edgecolor = \"black\")  #plotting the histogram for each numerical variable in data\n",
    "        plt.xlabel(i, fontsize = 14)                    #label on the x axis of the histogram\n",
    "        plt.ylabel(\"Frequency\", fontsize = 14)          #label on the y axis of the histogram\n",
    "        plt.title(\"Histogram of \" +i ,fontsize = 16)    #title of the histogram with variable name\n",
    "        plt.tight_layout(pad=2)                         #spcaing between the two plots\n",
    "        plt.savefig(directory+\"\\\\\"+i+\".png\")            #saving the figure to the directory with the figure name as variable name\n",
    "        #plt.show()                                      #to display the plots \n",
    "        plt.close(\"all\")                                #to close the figure window\n",
    "        print(data_num[i].describe())\n",
    "\n",
    "    for j in data_obj:                     #initiating a loop to plot bar graph for the categorical variables in the data\n",
    "        data_obj[j].value_counts().plot(kind = \"bar\",        #plotting abar graph for each categorical variable in the data\n",
    "                                        figsize = (10,10),   #parameters of the bar graph\n",
    "                                        color = \"coral\",\n",
    "                                        fontsize = 13)\n",
    "        plt.xlabel(j,fontsize = 14)                     #label on the x axis of the bar graph\n",
    "        plt.ylabel(\"Frequncy\",fontsize = 14)            #label on the y axis of the bar graph\n",
    "        plt.title(\"Bar Graph of \"+j,fontsize = 16)      #title of the bar graph with variable name\n",
    "        plt.savefig(directory+\"\\\\\"+j+\".png\")            #saving the figure to the directory with the figure name as variable name\n",
    "        #plt.show()                                      #to display the plots\n",
    "        plt.close(\"all\")                                #to close the figure window\n",
    "        print(pd.crosstab(index = 0, columns = data_obj[j]))"
   ]
  },
  {
   "cell_type": "code",
   "execution_count": 27,
   "metadata": {},
   "outputs": [
    {
     "name": "stdout",
     "output_type": "stream",
     "text": [
      "Car    AMC Ambassador Brougham  AMC Ambassador DPL  AMC Ambassador SST  \\\n",
      "row_0                                                                    \n",
      "0                            1                   1                   1   \n",
      "\n",
      "Car    AMC Concord  AMC Concord DL  AMC Concord DL 6  AMC Concord d/l  \\\n",
      "row_0                                                                   \n",
      "0                2               1                 1                1   \n",
      "\n",
      "Car    AMC Gremlin  AMC Hornet  AMC Hornet Sportabout (sw)  ...  \\\n",
      "row_0                                                       ...   \n",
      "0                4           4                           1  ...   \n",
      "\n",
      "Car    Volkswagen Scirocco  Volkswagen Super Beetle  \\\n",
      "row_0                                                 \n",
      "0                        1                        1   \n",
      "\n",
      "Car    Volkswagen Super Beetle 117  Volkswagen Type 3  Volvo 144ea  \\\n",
      "row_0                                                                \n",
      "0                                1                  1            1   \n",
      "\n",
      "Car    Volvo 145e (sw)  Volvo 244DL  Volvo 245  Volvo 264gl  Volvo Diesel  \n",
      "row_0                                                                      \n",
      "0                    1            1          1            1             1  \n",
      "\n",
      "[1 rows x 308 columns]\n",
      "Origin  Europe  Japan   US\n",
      "row_0                     \n",
      "0           73     79  254\n"
     ]
    }
   ],
   "source": [
    "Graphs(cars, [\"Car\", \"Origin\"])"
   ]
  },
  {
   "cell_type": "code",
   "execution_count": 30,
   "metadata": {},
   "outputs": [
    {
     "ename": "TypeError",
     "evalue": "unsupported operand type(s) for +: 'NoneType' and 'list'",
     "output_type": "error",
     "traceback": [
      "\u001b[1;31m---------------------------------------------------------------------------\u001b[0m",
      "\u001b[1;31mTypeError\u001b[0m                                 Traceback (most recent call last)",
      "\u001b[1;32m<ipython-input-30-8bff636e8780>\u001b[0m in \u001b[0;36m<module>\u001b[1;34m\u001b[0m\n\u001b[1;32m----> 1\u001b[1;33m \u001b[0mpd\u001b[0m\u001b[1;33m.\u001b[0m\u001b[0mcrosstab\u001b[0m\u001b[1;33m(\u001b[0m\u001b[0mindex\u001b[0m \u001b[1;33m=\u001b[0m \u001b[1;32mNone\u001b[0m\u001b[1;33m,\u001b[0m \u001b[0mcolumns\u001b[0m \u001b[1;33m=\u001b[0m \u001b[0miris\u001b[0m\u001b[1;33m.\u001b[0m\u001b[0mspecies\u001b[0m\u001b[1;33m)\u001b[0m\u001b[1;33m\u001b[0m\u001b[1;33m\u001b[0m\u001b[0m\n\u001b[0m",
      "\u001b[1;32m~\\anaconda3\\lib\\site-packages\\pandas\\core\\reshape\\pivot.py\u001b[0m in \u001b[0;36mcrosstab\u001b[1;34m(index, columns, values, rownames, colnames, aggfunc, margins, margins_name, dropna, normalize)\u001b[0m\n\u001b[0;32m    575\u001b[0m \u001b[1;33m\u001b[0m\u001b[0m\n\u001b[0;32m    576\u001b[0m     \u001b[0mcommon_idx\u001b[0m \u001b[1;33m=\u001b[0m \u001b[1;32mNone\u001b[0m\u001b[1;33m\u001b[0m\u001b[1;33m\u001b[0m\u001b[0m\n\u001b[1;32m--> 577\u001b[1;33m     \u001b[0mpass_objs\u001b[0m \u001b[1;33m=\u001b[0m \u001b[1;33m[\u001b[0m\u001b[0mx\u001b[0m \u001b[1;32mfor\u001b[0m \u001b[0mx\u001b[0m \u001b[1;32min\u001b[0m \u001b[0mindex\u001b[0m \u001b[1;33m+\u001b[0m \u001b[0mcolumns\u001b[0m \u001b[1;32mif\u001b[0m \u001b[0misinstance\u001b[0m\u001b[1;33m(\u001b[0m\u001b[0mx\u001b[0m\u001b[1;33m,\u001b[0m \u001b[1;33m(\u001b[0m\u001b[0mABCSeries\u001b[0m\u001b[1;33m,\u001b[0m \u001b[0mABCDataFrame\u001b[0m\u001b[1;33m)\u001b[0m\u001b[1;33m)\u001b[0m\u001b[1;33m]\u001b[0m\u001b[1;33m\u001b[0m\u001b[1;33m\u001b[0m\u001b[0m\n\u001b[0m\u001b[0;32m    578\u001b[0m     \u001b[1;32mif\u001b[0m \u001b[0mpass_objs\u001b[0m\u001b[1;33m:\u001b[0m\u001b[1;33m\u001b[0m\u001b[1;33m\u001b[0m\u001b[0m\n\u001b[0;32m    579\u001b[0m         \u001b[0mcommon_idx\u001b[0m \u001b[1;33m=\u001b[0m \u001b[0mget_objs_combined_axis\u001b[0m\u001b[1;33m(\u001b[0m\u001b[0mpass_objs\u001b[0m\u001b[1;33m,\u001b[0m \u001b[0mintersect\u001b[0m\u001b[1;33m=\u001b[0m\u001b[1;32mTrue\u001b[0m\u001b[1;33m,\u001b[0m \u001b[0msort\u001b[0m\u001b[1;33m=\u001b[0m\u001b[1;32mFalse\u001b[0m\u001b[1;33m)\u001b[0m\u001b[1;33m\u001b[0m\u001b[1;33m\u001b[0m\u001b[0m\n",
      "\u001b[1;31mTypeError\u001b[0m: unsupported operand type(s) for +: 'NoneType' and 'list'"
     ]
    }
   ],
   "source": [
    "pd.crosstab(index = None, columns = iris.species)"
   ]
  },
  {
   "cell_type": "code",
   "execution_count": 10,
   "metadata": {},
   "outputs": [
    {
     "data": {
      "text/html": [
       "<div>\n",
       "<style scoped>\n",
       "    .dataframe tbody tr th:only-of-type {\n",
       "        vertical-align: middle;\n",
       "    }\n",
       "\n",
       "    .dataframe tbody tr th {\n",
       "        vertical-align: top;\n",
       "    }\n",
       "\n",
       "    .dataframe thead th {\n",
       "        text-align: right;\n",
       "    }\n",
       "</style>\n",
       "<table border=\"1\" class=\"dataframe\">\n",
       "  <thead>\n",
       "    <tr style=\"text-align: right;\">\n",
       "      <th></th>\n",
       "      <th>sepal_length</th>\n",
       "      <th>sepal_width</th>\n",
       "      <th>petal_length</th>\n",
       "      <th>petal_width</th>\n",
       "    </tr>\n",
       "  </thead>\n",
       "  <tbody>\n",
       "    <tr>\n",
       "      <th>count</th>\n",
       "      <td>150.000000</td>\n",
       "      <td>150.000000</td>\n",
       "      <td>150.000000</td>\n",
       "      <td>150.000000</td>\n",
       "    </tr>\n",
       "    <tr>\n",
       "      <th>mean</th>\n",
       "      <td>5.843333</td>\n",
       "      <td>3.057333</td>\n",
       "      <td>3.758000</td>\n",
       "      <td>1.199333</td>\n",
       "    </tr>\n",
       "    <tr>\n",
       "      <th>std</th>\n",
       "      <td>0.828066</td>\n",
       "      <td>0.435866</td>\n",
       "      <td>1.765298</td>\n",
       "      <td>0.762238</td>\n",
       "    </tr>\n",
       "    <tr>\n",
       "      <th>min</th>\n",
       "      <td>4.300000</td>\n",
       "      <td>2.000000</td>\n",
       "      <td>1.000000</td>\n",
       "      <td>0.100000</td>\n",
       "    </tr>\n",
       "    <tr>\n",
       "      <th>25%</th>\n",
       "      <td>5.100000</td>\n",
       "      <td>2.800000</td>\n",
       "      <td>1.600000</td>\n",
       "      <td>0.300000</td>\n",
       "    </tr>\n",
       "    <tr>\n",
       "      <th>50%</th>\n",
       "      <td>5.800000</td>\n",
       "      <td>3.000000</td>\n",
       "      <td>4.350000</td>\n",
       "      <td>1.300000</td>\n",
       "    </tr>\n",
       "    <tr>\n",
       "      <th>75%</th>\n",
       "      <td>6.400000</td>\n",
       "      <td>3.300000</td>\n",
       "      <td>5.100000</td>\n",
       "      <td>1.800000</td>\n",
       "    </tr>\n",
       "    <tr>\n",
       "      <th>max</th>\n",
       "      <td>7.900000</td>\n",
       "      <td>4.400000</td>\n",
       "      <td>6.900000</td>\n",
       "      <td>2.500000</td>\n",
       "    </tr>\n",
       "  </tbody>\n",
       "</table>\n",
       "</div>"
      ],
      "text/plain": [
       "       sepal_length  sepal_width  petal_length  petal_width\n",
       "count    150.000000   150.000000    150.000000   150.000000\n",
       "mean       5.843333     3.057333      3.758000     1.199333\n",
       "std        0.828066     0.435866      1.765298     0.762238\n",
       "min        4.300000     2.000000      1.000000     0.100000\n",
       "25%        5.100000     2.800000      1.600000     0.300000\n",
       "50%        5.800000     3.000000      4.350000     1.300000\n",
       "75%        6.400000     3.300000      5.100000     1.800000\n",
       "max        7.900000     4.400000      6.900000     2.500000"
      ]
     },
     "execution_count": 10,
     "metadata": {},
     "output_type": "execute_result"
    }
   ],
   "source": [
    "Store it in a variable and create a csv file with the variable name"
   ]
  },
  {
   "cell_type": "code",
   "execution_count": null,
   "metadata": {},
   "outputs": [],
   "source": []
  }
 ],
 "metadata": {
  "kernelspec": {
   "display_name": "Python 3",
   "language": "python",
   "name": "python3"
  },
  "language_info": {
   "codemirror_mode": {
    "name": "ipython",
    "version": 3
   },
   "file_extension": ".py",
   "mimetype": "text/x-python",
   "name": "python",
   "nbconvert_exporter": "python",
   "pygments_lexer": "ipython3",
   "version": "3.8.8"
  }
 },
 "nbformat": 4,
 "nbformat_minor": 4
}
